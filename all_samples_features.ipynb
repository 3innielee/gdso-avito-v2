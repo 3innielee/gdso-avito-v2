{
 "cells": [
  {
   "cell_type": "code",
   "execution_count": 1,
   "metadata": {},
   "outputs": [],
   "source": [
    "import pandas as pd\n",
    "import numpy as np\n",
    "import gc\n",
    "from tqdm import tqdm\n",
    "import matplotlib.pyplot as plt\n",
    "import seaborn as sns\n",
    "from matplotlib_venn import venn2, venn2_circles # requires pip install matplotlib_venn\n",
    "import string\n",
    "from sklearn.model_selection import train_test_split\n",
    "from sklearn.metrics import mean_squared_error\n",
    "from sklearn.preprocessing import LabelEncoder\n",
    "from sklearn.feature_extraction.text import CountVectorizer, TfidfVectorizer\n",
    "import nltk\n",
    "from nltk.corpus import stopwords\n",
    "import scipy\n",
    "# import lightgbm as lgb\n",
    "\n",
    "from utils import featurize_date_col\n",
    "\n",
    "sns.set()\n",
    "%matplotlib inline\n",
    "pd.options.mode.chained_assignment = None"
   ]
  },
  {
   "cell_type": "code",
   "execution_count": 3,
   "metadata": {},
   "outputs": [],
   "source": [
    "# user inputs:\n",
    "LIMIT = None"
   ]
  },
  {
   "cell_type": "code",
   "execution_count": 8,
   "metadata": {},
   "outputs": [],
   "source": [
    "train = pd.read_csv('data/train.csv', parse_dates=['activation_date'], infer_datetime_format=True, nrows=LIMIT)\n",
    "# train_active = pd.read_csv('data/train_active.csv', parse_dates=['activation_date'], infer_datetime_format=True, nrows=LIMIT)\n",
    "test = pd.read_csv('data/test.csv', parse_dates=['activation_date'], infer_datetime_format=True, nrows=LIMIT)\n",
    "# test_active = pd.read_csv('data/test_active.csv', parse_dates=['activation_date'], infer_datetime_format=True, nrows=LIMIT)"
   ]
  },
  {
   "cell_type": "code",
   "execution_count": 6,
   "metadata": {},
   "outputs": [
    {
     "name": "stdout",
     "output_type": "stream",
     "text": [
      "1503424\n",
      "1503424\n",
      "771769\n"
     ]
    }
   ],
   "source": [
    "print(len(train))\n",
    "print(len(train['item_id'].unique()))\n",
    "print(len(train['user_id'].unique()))"
   ]
  },
  {
   "cell_type": "code",
   "execution_count": 11,
   "metadata": {},
   "outputs": [
    {
     "data": {
      "text/plain": [
       "0.07734079008982163"
      ]
     },
     "execution_count": 11,
     "metadata": {},
     "output_type": "execute_result"
    }
   ],
   "source": [
    "train.description.isna().sum() / len(train)"
   ]
  },
  {
   "cell_type": "code",
   "execution_count": 13,
   "metadata": {},
   "outputs": [
    {
     "data": {
      "text/plain": [
       "<matplotlib.axes._subplots.AxesSubplot at 0x1a957a9438>"
      ]
     },
     "execution_count": 13,
     "metadata": {},
     "output_type": "execute_result"
    },
    {
     "data": {
      "image/png": "[encoded data removed]",
      "text/plain": [
       "<matplotlib.figure.Figure at 0x10efcf0b8>"
      ]
     },
     "metadata": {},
     "output_type": "display_data"
    }
   ],
   "source": [
    "train.deal_probability.hist()"
   ]
  },
  {
   "cell_type": "code",
   "execution_count": 20,
   "metadata": {},
   "outputs": [
    {
     "data": {
      "text/plain": [
       "Index(['item_id', 'user_id', 'region', 'city', 'parent_category_name',\n",
       "       'category_name', 'param_1', 'param_2', 'param_3', 'title',\n",
       "       'description', 'price', 'item_seq_number', 'activation_date',\n",
       "       'user_type', 'image', 'image_top_1', 'deal_probability'],\n",
       "      dtype='object')"
      ]
     },
     "execution_count": 20,
     "metadata": {},
     "output_type": "execute_result"
    }
   ],
   "source": [
    "train.columns"
   ]
  },
  {
   "cell_type": "code",
   "execution_count": 32,
   "metadata": {},
   "outputs": [
    {
     "data": {
      "text/plain": [
       "<matplotlib.axes._subplots.AxesSubplot at 0x1a27a7a7f0>"
      ]
     },
     "execution_count": 32,
     "metadata": {},
     "output_type": "execute_result"
    },
    {
     "data": {
      "image/png": "[encoded data removed]",
      "text/plain": [
       "<matplotlib.figure.Figure at 0x1a285db9b0>"
      ]
     },
     "metadata": {},
     "output_type": "display_data"
    }
   ],
   "source": [
    "import seaborn as sns\n",
    "train = train[train['price']<1e6]\n",
    "sns.boxplot(x='parent_category_name', y='price', data=train)"
   ]
  },
  {
   "cell_type": "code",
   "execution_count": 4,
   "metadata": {},
   "outputs": [
    {
     "data": {
      "text/plain": [
       "32"
      ]
     },
     "execution_count": 4,
     "metadata": {},
     "output_type": "execute_result"
    }
   ],
   "source": [
    "all_samples = pd.concat([\n",
    "    train,\n",
    "    train_active,\n",
    "    test,\n",
    "    test_active\n",
    "]).reset_index(drop=True)\n",
    "all_samples.drop_duplicates(['item_id'], inplace=True) # here we assume each item was published only once?\n",
    "\n",
    "del train_active\n",
    "del test_active\n",
    "gc.collect()"
   ]
  },
  {
   "cell_type": "code",
   "execution_count": null,
   "metadata": {},
   "outputs": [],
   "source": [
    "# train_periods = pd.read_csv('data/periods_train.csv', parse_dates=['date_from', 'date_to', 'activation_date'], infer_datetime_format=True, nrows=LIMIT)\n",
    "# test_periods = pd.read_csv('data/periods_test.csv', parse_dates=['date_from', 'date_to', 'activation_date'], infer_datetime_format=True, nrows=LIMIT)"
   ]
  },
  {
   "cell_type": "code",
   "execution_count": null,
   "metadata": {},
   "outputs": [],
   "source": [
    "# all_periods = pd.concat([\n",
    "#     train_periods,\n",
    "#     test_periods\n",
    "# ])\n",
    "\n",
    "# del train_periods\n",
    "# del test_periods\n",
    "# gc.collect()\n",
    "# all_periods.columns"
   ]
  },
  {
   "cell_type": "code",
   "execution_count": 7,
   "metadata": {},
   "outputs": [],
   "source": [
    "all_samples = all_samples.drop(['deal_probability', 'image', 'image_top_1'], axis=1)"
   ]
  },
  {
   "cell_type": "code",
   "execution_count": 8,
   "metadata": {},
   "outputs": [],
   "source": [
    "all_samples['description'] = all_samples['description'].fillna('na')\n",
    "all_samples['param_1'] = all_samples['param_1'].fillna('na')\n",
    "all_samples['param_2'] = all_samples['param_2'].fillna('na')\n",
    "all_samples['param_3'] = all_samples['param_3'].fillna('na')\n",
    "all_samples['title'] = all_samples['title'].fillna('na')"
   ]
  },
  {
   "cell_type": "code",
   "execution_count": 9,
   "metadata": {},
   "outputs": [],
   "source": [
    "all_samples = all_samples[~all_samples['category_name'].isna()]"
   ]
  },
  {
   "cell_type": "code",
   "execution_count": 10,
   "metadata": {},
   "outputs": [],
   "source": [
    "mean_cat_price = all_samples[['price', 'category_name']].groupby('category_name')['price'].mean()\n",
    "std_cat_price = all_samples[['price', 'category_name']].groupby('category_name')['price'].std()"
   ]
  },
  {
   "cell_type": "code",
   "execution_count": 11,
   "metadata": {},
   "outputs": [],
   "source": [
    "null_price_idx = all_samples['price'].isna() # fillna with the normalized mean price of the category (i.e. 0.0)\n",
    "all_samples['price'] = all_samples['price'].fillna(0.0) "
   ]
  },
  {
   "cell_type": "code",
   "execution_count": 12,
   "metadata": {},
   "outputs": [],
   "source": [
    "all_samples['price_norm'] = all_samples['price']\n",
    "all_samples = all_samples.drop('price', axis=1)\n",
    "all_samples['price_norm'][null_price_idx] = 0.0 # make sure there is no nan as we subtract the mean\n",
    "for cat in all_samples['category_name'].unique():\n",
    "    indexes = all_samples['category_name']==cat\n",
    "    all_samples.loc[indexes, 'price_norm'] -= mean_cat_price[cat]\n",
    "    all_samples.loc[indexes, 'price_norm'] /= std_cat_price[cat]\n",
    "all_samples['price_norm'][null_price_idx] = 0.0"
   ]
  },
  {
   "cell_type": "code",
   "execution_count": 13,
   "metadata": {},
   "outputs": [],
   "source": [
    "all_samples.loc[all_samples['item_seq_number'].isna(), 'item_seq_number'] = all_samples['item_seq_number'].median()"
   ]
  },
  {
   "cell_type": "code",
   "execution_count": 14,
   "metadata": {},
   "outputs": [],
   "source": [
    "all_samples['user_type'] = all_samples['user_type'].fillna('Private') # most frquent user type (mode)"
   ]
  },
  {
   "cell_type": "code",
   "execution_count": 15,
   "metadata": {},
   "outputs": [],
   "source": [
    "all_samples = all_samples.loc[~all_samples['activation_date'].isna(), :]"
   ]
  },
  {
   "cell_type": "code",
   "execution_count": 16,
   "metadata": {},
   "outputs": [
    {
     "data": {
      "text/plain": [
       "activation_date         0.0\n",
       "category_name           0.0\n",
       "city                    0.0\n",
       "description             0.0\n",
       "item_id                 0.0\n",
       "item_seq_number         0.0\n",
       "param_1                 0.0\n",
       "param_2                 0.0\n",
       "param_3                 0.0\n",
       "parent_category_name    0.0\n",
       "region                  0.0\n",
       "title                   0.0\n",
       "user_id                 0.0\n",
       "user_type               0.0\n",
       "price_norm              0.0\n",
       "dtype: float64"
      ]
     },
     "execution_count": 16,
     "metadata": {},
     "output_type": "execute_result"
    }
   ],
   "source": [
    "all_samples.isna().sum()/len(all_samples)* 100"
   ]
  },
  {
   "cell_type": "code",
   "execution_count": 17,
   "metadata": {},
   "outputs": [],
   "source": [
    "all_samples.to_csv('data/all_samples_no_nulls.csv')"
   ]
  },
  {
   "cell_type": "code",
   "execution_count": null,
   "metadata": {},
   "outputs": [],
   "source": [
    "# pd.value_counts(all_samples['activation_date'].dropna().astype(str)).plot(kind='bar')"
   ]
  },
  {
   "cell_type": "code",
   "execution_count": null,
   "metadata": {},
   "outputs": [],
   "source": [
    "# all_samples.merge(all_periods, on=['item_id', 'activation_date'], how='left').dropna().head()"
   ]
  },
  {
   "cell_type": "markdown",
   "metadata": {},
   "source": [
    "Here we should do the following:\n",
    "\n",
    "1) for the remaining all data dropna (this will automatically exclude train/test data for which there is no date_to or date_from)\n",
    "\n",
    "2) This train model should take in the train features and return days_online and days_to_publish (so two models really!)\n",
    "\n",
    "3) Use the model trained in # 3 to predict date_from and date_to of user_ids that are not already included in periods_aggregate_featurize so we have a full dataset.\n",
    "\n",
    "4) Now we have a fully featurized train that can be used to provide labels using ONLY periods related data\n",
    "\n",
    "\n",
    "***** Actually a better idea might be to just use periods_aggregate results and train to predict some labels (dev can be a subset of train) and 1) look at the feature importances in predicting the deal_probability and then 2) train models to predict the most important features directly (rather than date_from and date_to) and 3) finally use those models to predict those important features for the user_ids that were NOT shared between the train and train_active datasets"
   ]
  },
  {
   "cell_type": "code",
   "execution_count": null,
   "metadata": {},
   "outputs": [],
   "source": []
  },
  {
   "cell_type": "code",
   "execution_count": null,
   "metadata": {},
   "outputs": [],
   "source": [
    "train.columns.values"
   ]
  },
  {
   "cell_type": "code",
   "execution_count": null,
   "metadata": {},
   "outputs": [],
   "source": []
  }
 ],
 "metadata": {
  "kernelspec": {
   "display_name": "Python 3",
   "language": "python",
   "name": "python3"
  },
  "language_info": {
   "codemirror_mode": {
    "name": "ipython",
    "version": 3
   },
   "file_extension": ".py",
   "mimetype": "text/x-python",
   "name": "python",
   "nbconvert_exporter": "python",
   "pygments_lexer": "ipython3",
   "version": "3.6.4"
  }
 },
 "nbformat": 4,
 "nbformat_minor": 2
}
