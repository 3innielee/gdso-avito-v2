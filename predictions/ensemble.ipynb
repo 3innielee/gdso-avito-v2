{
 "cells": [
  {
   "cell_type": "code",
   "execution_count": 1,
   "metadata": {},
   "outputs": [],
   "source": [
    "import pandas as pd\n",
    "import matplotlib.pyplot as plt\n",
    "\n",
    "%matplotlib inline\n",
    "pd.options.mode.chained_assignment = None"
   ]
  },
  {
   "cell_type": "code",
   "execution_count": 2,
   "metadata": {},
   "outputs": [],
   "source": [
    "test = pd.read_csv('../data/test.csv', usecols=['item_id'])"
   ]
  },
  {
   "cell_type": "code",
   "execution_count": 3,
   "metadata": {},
   "outputs": [],
   "source": [
    "periods = pd.read_csv('periods.csv')"
   ]
  },
  {
   "cell_type": "code",
   "execution_count": 4,
   "metadata": {},
   "outputs": [],
   "source": [
    "tabular = pd.read_csv('tabular.csv')"
   ]
  },
  {
   "cell_type": "code",
   "execution_count": 5,
   "metadata": {},
   "outputs": [],
   "source": [
    "nlp = pd.read_csv('nlp.csv')"
   ]
  },
  {
   "cell_type": "code",
   "execution_count": 6,
   "metadata": {},
   "outputs": [],
   "source": [
    "test['periods_weight'] = 1.0\n",
    "test['tabular_weight'] = 1.0\n",
    "test['nlp_weight'] = 1.0"
   ]
  },
  {
   "cell_type": "code",
   "execution_count": 7,
   "metadata": {},
   "outputs": [
    {
     "data": {
      "text/plain": [
       "508438"
      ]
     },
     "execution_count": 7,
     "metadata": {},
     "output_type": "execute_result"
    }
   ],
   "source": [
    "len(test)"
   ]
  },
  {
   "cell_type": "code",
   "execution_count": 8,
   "metadata": {},
   "outputs": [
    {
     "data": {
      "text/plain": [
       "item_id           0.0\n",
       "periods_weight    0.0\n",
       "tabular_weight    0.0\n",
       "nlp_weight        0.0\n",
       "dtype: float64"
      ]
     },
     "execution_count": 8,
     "metadata": {},
     "output_type": "execute_result"
    }
   ],
   "source": [
    "test.isna().sum() / len(test)"
   ]
  },
  {
   "cell_type": "code",
   "execution_count": 9,
   "metadata": {},
   "outputs": [],
   "source": [
    "test = test.merge(periods, how='left', on='item_id')\n",
    "null_idx = test['deal_probability'].isna()\n",
    "test = test.rename(columns={'deal_probability': 'periods'})\n",
    "test['periods_weight'][null_idx] = 0.0\n",
    "test['periods'][null_idx] = 0.0"
   ]
  },
  {
   "cell_type": "code",
   "execution_count": 10,
   "metadata": {},
   "outputs": [],
   "source": [
    "test = test.merge(tabular, how='left', on='item_id')\n",
    "null_idx = test['deal_probability'].isna()\n",
    "test = test.rename(columns={'deal_probability': 'tabular'})\n",
    "test['tabular_weight'][null_idx] = 0.0\n",
    "test['tabular'][null_idx] = 0.0"
   ]
  },
  {
   "cell_type": "code",
   "execution_count": 11,
   "metadata": {},
   "outputs": [],
   "source": [
    "test = test.merge(nlp, how='left', on='item_id')\n",
    "null_idx = test['deal_probability'].isna()\n",
    "test = test.rename(columns={'deal_probability': 'nlp'})\n",
    "test['nlp_weight'][null_idx] = 0.0\n",
    "test['nlp'][null_idx] = 0.0"
   ]
  },
  {
   "cell_type": "code",
   "execution_count": 45,
   "metadata": {},
   "outputs": [],
   "source": [
    "test['deal_probability'] = test['periods']*test['periods_weight'] + \\\n",
    "                            test['tabular']*test['tabular_weight'] + \\\n",
    "                            test['nlp']*test['nlp_weight']\n",
    "test['deal_probability'] /= ( test['periods_weight'] + test['tabular_weight'] + test['nlp_weight'])"
   ]
  },
  {
   "cell_type": "code",
   "execution_count": 55,
   "metadata": {},
   "outputs": [],
   "source": [
    "submission = test[['item_id', 'deal_probability']].set_index('item_id')"
   ]
  },
  {
   "cell_type": "code",
   "execution_count": 56,
   "metadata": {},
   "outputs": [
    {
     "data": {
      "text/plain": [
       "deal_probability    0.0\n",
       "dtype: float64"
      ]
     },
     "execution_count": 56,
     "metadata": {},
     "output_type": "execute_result"
    }
   ],
   "source": [
    "### methods for transformation to [0, 1] range:\n",
    "### 1) just cut out the negative part:\n",
    "submission[submission < 0] = 0.0\n",
    "\n",
    "### 2) MinMaxScaler to [0,1] range\n",
    "# from sklearn.preprocessing import MinMaxScaler\n",
    "# scaler = MinMaxScaler()\n",
    "# submission['deal_probability'] = scaler.fit_transform(submission)\n",
    "\n",
    "submission.min()"
   ]
  },
  {
   "cell_type": "code",
   "execution_count": 57,
   "metadata": {},
   "outputs": [],
   "source": [
    "submission.to_csv('submission.csv')"
   ]
  },
  {
   "cell_type": "code",
   "execution_count": 25,
   "metadata": {},
   "outputs": [
    {
     "data": {
      "text/plain": [
       "508438"
      ]
     },
     "execution_count": 25,
     "metadata": {},
     "output_type": "execute_result"
    }
   ],
   "source": [
    "len(submission)"
   ]
  },
  {
   "cell_type": "code",
   "execution_count": 36,
   "metadata": {},
   "outputs": [
    {
     "data": {
      "text/html": [
       "<div>\n",
       "<style scoped>\n",
       "    .dataframe tbody tr th:only-of-type {\n",
       "        vertical-align: middle;\n",
       "    }\n",
       "\n",
       "    .dataframe tbody tr th {\n",
       "        vertical-align: top;\n",
       "    }\n",
       "\n",
       "    .dataframe thead th {\n",
       "        text-align: right;\n",
       "    }\n",
       "</style>\n",
       "<table border=\"1\" class=\"dataframe\">\n",
       "  <thead>\n",
       "    <tr style=\"text-align: right;\">\n",
       "      <th></th>\n",
       "      <th>deal_probability</th>\n",
       "    </tr>\n",
       "    <tr>\n",
       "      <th>item_id</th>\n",
       "      <th></th>\n",
       "    </tr>\n",
       "  </thead>\n",
       "  <tbody>\n",
       "    <tr>\n",
       "      <th>6544e41a8817</th>\n",
       "      <td>0.097277</td>\n",
       "    </tr>\n",
       "    <tr>\n",
       "      <th>65b9484d670f</th>\n",
       "      <td>0.276881</td>\n",
       "    </tr>\n",
       "    <tr>\n",
       "      <th>8bab230b2ecd</th>\n",
       "      <td>0.167920</td>\n",
       "    </tr>\n",
       "    <tr>\n",
       "      <th>8e348601fefc</th>\n",
       "      <td>0.286058</td>\n",
       "    </tr>\n",
       "    <tr>\n",
       "      <th>8bd2fe400b89</th>\n",
       "      <td>0.207867</td>\n",
       "    </tr>\n",
       "    <tr>\n",
       "      <th>c63dbd6c657f</th>\n",
       "      <td>0.163843</td>\n",
       "    </tr>\n",
       "    <tr>\n",
       "      <th>6d1a410df86e</th>\n",
       "      <td>0.136783</td>\n",
       "    </tr>\n",
       "    <tr>\n",
       "      <th>e8d3e7922b80</th>\n",
       "      <td>0.076400</td>\n",
       "    </tr>\n",
       "    <tr>\n",
       "      <th>2bc1ab208462</th>\n",
       "      <td>0.119701</td>\n",
       "    </tr>\n",
       "    <tr>\n",
       "      <th>7e05d77a9181</th>\n",
       "      <td>0.153258</td>\n",
       "    </tr>\n",
       "    <tr>\n",
       "      <th>e2ec19a3ca2b</th>\n",
       "      <td>0.242630</td>\n",
       "    </tr>\n",
       "    <tr>\n",
       "      <th>68069bfc06c2</th>\n",
       "      <td>0.106498</td>\n",
       "    </tr>\n",
       "    <tr>\n",
       "      <th>595842ba248a</th>\n",
       "      <td>0.113449</td>\n",
       "    </tr>\n",
       "    <tr>\n",
       "      <th>4130d5cfc5de</th>\n",
       "      <td>0.182082</td>\n",
       "    </tr>\n",
       "    <tr>\n",
       "      <th>c21ede41b256</th>\n",
       "      <td>0.122766</td>\n",
       "    </tr>\n",
       "    <tr>\n",
       "      <th>f56e4684ceda</th>\n",
       "      <td>0.190581</td>\n",
       "    </tr>\n",
       "    <tr>\n",
       "      <th>e7ab88d19965</th>\n",
       "      <td>0.110986</td>\n",
       "    </tr>\n",
       "    <tr>\n",
       "      <th>81c1cd9f4e4e</th>\n",
       "      <td>0.133429</td>\n",
       "    </tr>\n",
       "    <tr>\n",
       "      <th>2c989cea0e97</th>\n",
       "      <td>0.142083</td>\n",
       "    </tr>\n",
       "    <tr>\n",
       "      <th>36a35020ebeb</th>\n",
       "      <td>0.285518</td>\n",
       "    </tr>\n",
       "    <tr>\n",
       "      <th>60b0cc9cf25e</th>\n",
       "      <td>0.110641</td>\n",
       "    </tr>\n",
       "    <tr>\n",
       "      <th>ac0a01acccc2</th>\n",
       "      <td>0.183020</td>\n",
       "    </tr>\n",
       "    <tr>\n",
       "      <th>683c444d6a40</th>\n",
       "      <td>0.187026</td>\n",
       "    </tr>\n",
       "    <tr>\n",
       "      <th>5580ccd3358a</th>\n",
       "      <td>0.071964</td>\n",
       "    </tr>\n",
       "    <tr>\n",
       "      <th>4596527723ec</th>\n",
       "      <td>0.306324</td>\n",
       "    </tr>\n",
       "    <tr>\n",
       "      <th>2e414b752d9f</th>\n",
       "      <td>0.121993</td>\n",
       "    </tr>\n",
       "    <tr>\n",
       "      <th>032e21134f2f</th>\n",
       "      <td>0.098245</td>\n",
       "    </tr>\n",
       "    <tr>\n",
       "      <th>fd6f6a2ed415</th>\n",
       "      <td>0.186365</td>\n",
       "    </tr>\n",
       "    <tr>\n",
       "      <th>44da737c70af</th>\n",
       "      <td>0.068430</td>\n",
       "    </tr>\n",
       "    <tr>\n",
       "      <th>272e2ee33c62</th>\n",
       "      <td>0.317475</td>\n",
       "    </tr>\n",
       "    <tr>\n",
       "      <th>...</th>\n",
       "      <td>...</td>\n",
       "    </tr>\n",
       "    <tr>\n",
       "      <th>df8001ca5897</th>\n",
       "      <td>0.149791</td>\n",
       "    </tr>\n",
       "    <tr>\n",
       "      <th>0455281c86fb</th>\n",
       "      <td>0.190962</td>\n",
       "    </tr>\n",
       "    <tr>\n",
       "      <th>482d3253c9f1</th>\n",
       "      <td>0.121905</td>\n",
       "    </tr>\n",
       "    <tr>\n",
       "      <th>9278e7c14cd0</th>\n",
       "      <td>0.074120</td>\n",
       "    </tr>\n",
       "    <tr>\n",
       "      <th>9041d0340b49</th>\n",
       "      <td>0.104511</td>\n",
       "    </tr>\n",
       "    <tr>\n",
       "      <th>872c382ce446</th>\n",
       "      <td>0.070529</td>\n",
       "    </tr>\n",
       "    <tr>\n",
       "      <th>67448ad8941c</th>\n",
       "      <td>0.278485</td>\n",
       "    </tr>\n",
       "    <tr>\n",
       "      <th>6ffaf4c20469</th>\n",
       "      <td>0.137781</td>\n",
       "    </tr>\n",
       "    <tr>\n",
       "      <th>acc46dbda733</th>\n",
       "      <td>0.114959</td>\n",
       "    </tr>\n",
       "    <tr>\n",
       "      <th>eb33cd6dac70</th>\n",
       "      <td>0.112235</td>\n",
       "    </tr>\n",
       "    <tr>\n",
       "      <th>f9db673cb425</th>\n",
       "      <td>0.046956</td>\n",
       "    </tr>\n",
       "    <tr>\n",
       "      <th>32727c2ed7e5</th>\n",
       "      <td>0.127027</td>\n",
       "    </tr>\n",
       "    <tr>\n",
       "      <th>2e6f289d2676</th>\n",
       "      <td>0.085572</td>\n",
       "    </tr>\n",
       "    <tr>\n",
       "      <th>58fa2c39f791</th>\n",
       "      <td>0.182822</td>\n",
       "    </tr>\n",
       "    <tr>\n",
       "      <th>0e1a370c12c7</th>\n",
       "      <td>0.077731</td>\n",
       "    </tr>\n",
       "    <tr>\n",
       "      <th>cc4f7fd3d2f2</th>\n",
       "      <td>0.154338</td>\n",
       "    </tr>\n",
       "    <tr>\n",
       "      <th>29a342aa8508</th>\n",
       "      <td>0.131356</td>\n",
       "    </tr>\n",
       "    <tr>\n",
       "      <th>fce6b0de65f8</th>\n",
       "      <td>0.097405</td>\n",
       "    </tr>\n",
       "    <tr>\n",
       "      <th>dae17c1850b0</th>\n",
       "      <td>0.195591</td>\n",
       "    </tr>\n",
       "    <tr>\n",
       "      <th>549b1c9354e3</th>\n",
       "      <td>0.097762</td>\n",
       "    </tr>\n",
       "    <tr>\n",
       "      <th>0915772bb21c</th>\n",
       "      <td>0.105720</td>\n",
       "    </tr>\n",
       "    <tr>\n",
       "      <th>d8984ced6639</th>\n",
       "      <td>0.283749</td>\n",
       "    </tr>\n",
       "    <tr>\n",
       "      <th>e7c68be28a03</th>\n",
       "      <td>0.155815</td>\n",
       "    </tr>\n",
       "    <tr>\n",
       "      <th>a96a4c5ad75a</th>\n",
       "      <td>0.063040</td>\n",
       "    </tr>\n",
       "    <tr>\n",
       "      <th>fdcd9910edf3</th>\n",
       "      <td>0.290269</td>\n",
       "    </tr>\n",
       "    <tr>\n",
       "      <th>9f2200aed300</th>\n",
       "      <td>0.219509</td>\n",
       "    </tr>\n",
       "    <tr>\n",
       "      <th>70813f518de4</th>\n",
       "      <td>0.156715</td>\n",
       "    </tr>\n",
       "    <tr>\n",
       "      <th>a22a2eeb5dd2</th>\n",
       "      <td>0.080116</td>\n",
       "    </tr>\n",
       "    <tr>\n",
       "      <th>ed7fbb0733c1</th>\n",
       "      <td>0.371104</td>\n",
       "    </tr>\n",
       "    <tr>\n",
       "      <th>d374d332992f</th>\n",
       "      <td>0.151194</td>\n",
       "    </tr>\n",
       "  </tbody>\n",
       "</table>\n",
       "<p>508438 rows × 1 columns</p>\n",
       "</div>"
      ],
      "text/plain": [
       "              deal_probability\n",
       "item_id                       \n",
       "6544e41a8817          0.097277\n",
       "65b9484d670f          0.276881\n",
       "8bab230b2ecd          0.167920\n",
       "8e348601fefc          0.286058\n",
       "8bd2fe400b89          0.207867\n",
       "c63dbd6c657f          0.163843\n",
       "6d1a410df86e          0.136783\n",
       "e8d3e7922b80          0.076400\n",
       "2bc1ab208462          0.119701\n",
       "7e05d77a9181          0.153258\n",
       "e2ec19a3ca2b          0.242630\n",
       "68069bfc06c2          0.106498\n",
       "595842ba248a          0.113449\n",
       "4130d5cfc5de          0.182082\n",
       "c21ede41b256          0.122766\n",
       "f56e4684ceda          0.190581\n",
       "e7ab88d19965          0.110986\n",
       "81c1cd9f4e4e          0.133429\n",
       "2c989cea0e97          0.142083\n",
       "36a35020ebeb          0.285518\n",
       "60b0cc9cf25e          0.110641\n",
       "ac0a01acccc2          0.183020\n",
       "683c444d6a40          0.187026\n",
       "5580ccd3358a          0.071964\n",
       "4596527723ec          0.306324\n",
       "2e414b752d9f          0.121993\n",
       "032e21134f2f          0.098245\n",
       "fd6f6a2ed415          0.186365\n",
       "44da737c70af          0.068430\n",
       "272e2ee33c62          0.317475\n",
       "...                        ...\n",
       "df8001ca5897          0.149791\n",
       "0455281c86fb          0.190962\n",
       "482d3253c9f1          0.121905\n",
       "9278e7c14cd0          0.074120\n",
       "9041d0340b49          0.104511\n",
       "872c382ce446          0.070529\n",
       "67448ad8941c          0.278485\n",
       "6ffaf4c20469          0.137781\n",
       "acc46dbda733          0.114959\n",
       "eb33cd6dac70          0.112235\n",
       "f9db673cb425          0.046956\n",
       "32727c2ed7e5          0.127027\n",
       "2e6f289d2676          0.085572\n",
       "58fa2c39f791          0.182822\n",
       "0e1a370c12c7          0.077731\n",
       "cc4f7fd3d2f2          0.154338\n",
       "29a342aa8508          0.131356\n",
       "fce6b0de65f8          0.097405\n",
       "dae17c1850b0          0.195591\n",
       "549b1c9354e3          0.097762\n",
       "0915772bb21c          0.105720\n",
       "d8984ced6639          0.283749\n",
       "e7c68be28a03          0.155815\n",
       "a96a4c5ad75a          0.063040\n",
       "fdcd9910edf3          0.290269\n",
       "9f2200aed300          0.219509\n",
       "70813f518de4          0.156715\n",
       "a22a2eeb5dd2          0.080116\n",
       "ed7fbb0733c1          0.371104\n",
       "d374d332992f          0.151194\n",
       "\n",
       "[508438 rows x 1 columns]"
      ]
     },
     "execution_count": 36,
     "metadata": {},
     "output_type": "execute_result"
    }
   ],
   "source": [
    "submission"
   ]
  },
  {
   "cell_type": "code",
   "execution_count": null,
   "metadata": {},
   "outputs": [],
   "source": []
  }
 ],
 "metadata": {
  "kernelspec": {
   "display_name": "Python 3",
   "language": "python",
   "name": "python3"
  },
  "language_info": {
   "codemirror_mode": {
    "name": "ipython",
    "version": 3
   },
   "file_extension": ".py",
   "mimetype": "text/x-python",
   "name": "python",
   "nbconvert_exporter": "python",
   "pygments_lexer": "ipython3",
   "version": "3.6.5"
  }
 },
 "nbformat": 4,
 "nbformat_minor": 2
}
