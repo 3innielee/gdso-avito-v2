{
 "cells": [
  {
   "cell_type": "code",
   "execution_count": 18,
   "metadata": {},
   "outputs": [],
   "source": [
    "import pandas as pd\n",
    "import matplotlib.pyplot as plt\n",
    "\n",
    "%matplotlib inline\n",
    "pd.options.mode.chained_assignment = None"
   ]
  },
  {
   "cell_type": "code",
   "execution_count": 19,
   "metadata": {},
   "outputs": [],
   "source": [
    "test = pd.read_csv('../data/test.csv', usecols=['item_id'])"
   ]
  },
  {
   "cell_type": "code",
   "execution_count": 20,
   "metadata": {},
   "outputs": [],
   "source": [
    "periods = pd.read_csv('periods.csv')"
   ]
  },
  {
   "cell_type": "code",
   "execution_count": 21,
   "metadata": {},
   "outputs": [],
   "source": [
    "activation_date = pd.read_csv('activation_date.csv')"
   ]
  },
  {
   "cell_type": "code",
   "execution_count": 22,
   "metadata": {},
   "outputs": [],
   "source": [
    "tabular = pd.read_csv('tabular.csv')"
   ]
  },
  {
   "cell_type": "code",
   "execution_count": 23,
   "metadata": {},
   "outputs": [],
   "source": [
    "nlp = pd.read_csv('nlp.csv')"
   ]
  },
  {
   "cell_type": "code",
   "execution_count": 24,
   "metadata": {},
   "outputs": [],
   "source": [
    "test['periods_weight'] = 5.0\n",
    "test['tabular_weight'] = 2.0\n",
    "test['nlp_weight'] = 1.0\n",
    "test['activation_date_weight'] = 0.5"
   ]
  },
  {
   "cell_type": "code",
   "execution_count": 25,
   "metadata": {},
   "outputs": [
    {
     "data": {
      "text/plain": [
       "508438"
      ]
     },
     "execution_count": 25,
     "metadata": {},
     "output_type": "execute_result"
    }
   ],
   "source": [
    "len(test)"
   ]
  },
  {
   "cell_type": "code",
   "execution_count": 26,
   "metadata": {},
   "outputs": [
    {
     "data": {
      "text/plain": [
       "item_id                   0.0\n",
       "periods_weight            0.0\n",
       "tabular_weight            0.0\n",
       "nlp_weight                0.0\n",
       "activation_date_weight    0.0\n",
       "dtype: float64"
      ]
     },
     "execution_count": 26,
     "metadata": {},
     "output_type": "execute_result"
    }
   ],
   "source": [
    "test.isna().sum() / len(test)"
   ]
  },
  {
   "cell_type": "code",
   "execution_count": 27,
   "metadata": {},
   "outputs": [],
   "source": [
    "test = test.merge(periods, how='left', on='item_id')\n",
    "null_idx = test['deal_probability'].isna()\n",
    "test = test.rename(columns={'deal_probability': 'periods'})\n",
    "test['periods_weight'][null_idx] = 0.0\n",
    "test['periods'][null_idx] = 0.0"
   ]
  },
  {
   "cell_type": "code",
   "execution_count": 28,
   "metadata": {},
   "outputs": [],
   "source": [
    "test = test.merge(tabular, how='left', on='item_id')\n",
    "null_idx = test['deal_probability'].isna()\n",
    "test = test.rename(columns={'deal_probability': 'tabular'})\n",
    "test['tabular_weight'][null_idx] = 0.0\n",
    "test['tabular'][null_idx] = 0.0"
   ]
  },
  {
   "cell_type": "code",
   "execution_count": 29,
   "metadata": {},
   "outputs": [],
   "source": [
    "test = test.merge(nlp, how='left', on='item_id')\n",
    "null_idx = test['deal_probability'].isna()\n",
    "test = test.rename(columns={'deal_probability': 'nlp'})\n",
    "test['nlp_weight'][null_idx] = 0.0\n",
    "test['nlp'][null_idx] = 0.0"
   ]
  },
  {
   "cell_type": "code",
   "execution_count": 30,
   "metadata": {},
   "outputs": [],
   "source": [
    "test = test.merge(activation_date, how='left', on='item_id')\n",
    "null_idx = test['deal_probability'].isna()\n",
    "test = test.rename(columns={'deal_probability': 'activation_date'})\n",
    "test['activation_date_weight'][null_idx] = 0.0\n",
    "test['activation_date'][null_idx] = 0.0"
   ]
  },
  {
   "cell_type": "code",
   "execution_count": 32,
   "metadata": {},
   "outputs": [],
   "source": [
    "test['deal_probability'] = test['periods']*test['periods_weight'] + \\\n",
    "                            test['tabular']*test['tabular_weight'] + \\\n",
    "                            test['nlp']*test['nlp_weight'] + \\\n",
    "                            test['activation_date']*test['activation_date_weight'] \n",
    "test['deal_probability'] /= ( test['periods_weight'] + test['tabular_weight'] + test['nlp_weight'] + test['activation_date_weight'])"
   ]
  },
  {
   "cell_type": "code",
   "execution_count": 33,
   "metadata": {},
   "outputs": [],
   "source": [
    "submission = test[['item_id', 'deal_probability']].set_index('item_id')"
   ]
  },
  {
   "cell_type": "code",
   "execution_count": 34,
   "metadata": {},
   "outputs": [
    {
     "data": {
      "text/plain": [
       "deal_probability    0.074825\n",
       "dtype: float64"
      ]
     },
     "execution_count": 34,
     "metadata": {},
     "output_type": "execute_result"
    }
   ],
   "source": [
    "### methods for transformation to [0, 1] range:\n",
    "### 1) just cut out the negative part:\n",
    "submission[submission < 0] = 0.0\n",
    "\n",
    "### 2) MinMaxScaler to [0,1] range\n",
    "# from sklearn.preprocessing import MinMaxScaler\n",
    "# scaler = MinMaxScaler()\n",
    "# submission['deal_probability'] = scaler.fit_transform(submission)\n",
    "\n",
    "submission.min()"
   ]
  },
  {
   "cell_type": "code",
   "execution_count": 35,
   "metadata": {},
   "outputs": [],
   "source": [
    "submission.to_csv('submission.csv')"
   ]
  },
  {
   "cell_type": "code",
   "execution_count": 36,
   "metadata": {},
   "outputs": [
    {
     "data": {
      "text/plain": [
       "508438"
      ]
     },
     "execution_count": 36,
     "metadata": {},
     "output_type": "execute_result"
    }
   ],
   "source": [
    "len(submission)"
   ]
  },
  {
   "cell_type": "code",
   "execution_count": 37,
   "metadata": {},
   "outputs": [
    {
     "data": {
      "text/html": [
       "<div>\n",
       "<style scoped>\n",
       "    .dataframe tbody tr th:only-of-type {\n",
       "        vertical-align: middle;\n",
       "    }\n",
       "\n",
       "    .dataframe tbody tr th {\n",
       "        vertical-align: top;\n",
       "    }\n",
       "\n",
       "    .dataframe thead th {\n",
       "        text-align: right;\n",
       "    }\n",
       "</style>\n",
       "<table border=\"1\" class=\"dataframe\">\n",
       "  <thead>\n",
       "    <tr style=\"text-align: right;\">\n",
       "      <th></th>\n",
       "      <th>deal_probability</th>\n",
       "    </tr>\n",
       "    <tr>\n",
       "      <th>item_id</th>\n",
       "      <th></th>\n",
       "    </tr>\n",
       "  </thead>\n",
       "  <tbody>\n",
       "    <tr>\n",
       "      <th>6544e41a8817</th>\n",
       "      <td>0.158182</td>\n",
       "    </tr>\n",
       "    <tr>\n",
       "      <th>65b9484d670f</th>\n",
       "      <td>0.285443</td>\n",
       "    </tr>\n",
       "    <tr>\n",
       "      <th>8bab230b2ecd</th>\n",
       "      <td>0.167058</td>\n",
       "    </tr>\n",
       "    <tr>\n",
       "      <th>8e348601fefc</th>\n",
       "      <td>0.215544</td>\n",
       "    </tr>\n",
       "    <tr>\n",
       "      <th>8bd2fe400b89</th>\n",
       "      <td>0.190459</td>\n",
       "    </tr>\n",
       "    <tr>\n",
       "      <th>c63dbd6c657f</th>\n",
       "      <td>0.168328</td>\n",
       "    </tr>\n",
       "    <tr>\n",
       "      <th>6d1a410df86e</th>\n",
       "      <td>0.135549</td>\n",
       "    </tr>\n",
       "    <tr>\n",
       "      <th>e8d3e7922b80</th>\n",
       "      <td>0.137194</td>\n",
       "    </tr>\n",
       "    <tr>\n",
       "      <th>2bc1ab208462</th>\n",
       "      <td>0.156150</td>\n",
       "    </tr>\n",
       "    <tr>\n",
       "      <th>7e05d77a9181</th>\n",
       "      <td>0.163117</td>\n",
       "    </tr>\n",
       "    <tr>\n",
       "      <th>e2ec19a3ca2b</th>\n",
       "      <td>0.230237</td>\n",
       "    </tr>\n",
       "    <tr>\n",
       "      <th>68069bfc06c2</th>\n",
       "      <td>0.147024</td>\n",
       "    </tr>\n",
       "    <tr>\n",
       "      <th>595842ba248a</th>\n",
       "      <td>0.147137</td>\n",
       "    </tr>\n",
       "    <tr>\n",
       "      <th>4130d5cfc5de</th>\n",
       "      <td>0.165821</td>\n",
       "    </tr>\n",
       "    <tr>\n",
       "      <th>c21ede41b256</th>\n",
       "      <td>0.166754</td>\n",
       "    </tr>\n",
       "    <tr>\n",
       "      <th>f56e4684ceda</th>\n",
       "      <td>0.287493</td>\n",
       "    </tr>\n",
       "    <tr>\n",
       "      <th>e7ab88d19965</th>\n",
       "      <td>0.155012</td>\n",
       "    </tr>\n",
       "    <tr>\n",
       "      <th>81c1cd9f4e4e</th>\n",
       "      <td>0.163457</td>\n",
       "    </tr>\n",
       "    <tr>\n",
       "      <th>2c989cea0e97</th>\n",
       "      <td>0.154539</td>\n",
       "    </tr>\n",
       "    <tr>\n",
       "      <th>36a35020ebeb</th>\n",
       "      <td>0.213114</td>\n",
       "    </tr>\n",
       "    <tr>\n",
       "      <th>60b0cc9cf25e</th>\n",
       "      <td>0.146436</td>\n",
       "    </tr>\n",
       "    <tr>\n",
       "      <th>ac0a01acccc2</th>\n",
       "      <td>0.189874</td>\n",
       "    </tr>\n",
       "    <tr>\n",
       "      <th>683c444d6a40</th>\n",
       "      <td>0.227063</td>\n",
       "    </tr>\n",
       "    <tr>\n",
       "      <th>5580ccd3358a</th>\n",
       "      <td>0.134554</td>\n",
       "    </tr>\n",
       "    <tr>\n",
       "      <th>4596527723ec</th>\n",
       "      <td>0.394021</td>\n",
       "    </tr>\n",
       "    <tr>\n",
       "      <th>2e414b752d9f</th>\n",
       "      <td>0.135428</td>\n",
       "    </tr>\n",
       "    <tr>\n",
       "      <th>032e21134f2f</th>\n",
       "      <td>0.153021</td>\n",
       "    </tr>\n",
       "    <tr>\n",
       "      <th>fd6f6a2ed415</th>\n",
       "      <td>0.170865</td>\n",
       "    </tr>\n",
       "    <tr>\n",
       "      <th>44da737c70af</th>\n",
       "      <td>0.130545</td>\n",
       "    </tr>\n",
       "    <tr>\n",
       "      <th>272e2ee33c62</th>\n",
       "      <td>0.373913</td>\n",
       "    </tr>\n",
       "    <tr>\n",
       "      <th>...</th>\n",
       "      <td>...</td>\n",
       "    </tr>\n",
       "    <tr>\n",
       "      <th>df8001ca5897</th>\n",
       "      <td>0.164216</td>\n",
       "    </tr>\n",
       "    <tr>\n",
       "      <th>0455281c86fb</th>\n",
       "      <td>0.189746</td>\n",
       "    </tr>\n",
       "    <tr>\n",
       "      <th>482d3253c9f1</th>\n",
       "      <td>0.133155</td>\n",
       "    </tr>\n",
       "    <tr>\n",
       "      <th>9278e7c14cd0</th>\n",
       "      <td>0.120874</td>\n",
       "    </tr>\n",
       "    <tr>\n",
       "      <th>9041d0340b49</th>\n",
       "      <td>0.136930</td>\n",
       "    </tr>\n",
       "    <tr>\n",
       "      <th>872c382ce446</th>\n",
       "      <td>0.129704</td>\n",
       "    </tr>\n",
       "    <tr>\n",
       "      <th>67448ad8941c</th>\n",
       "      <td>0.236393</td>\n",
       "    </tr>\n",
       "    <tr>\n",
       "      <th>6ffaf4c20469</th>\n",
       "      <td>0.165521</td>\n",
       "    </tr>\n",
       "    <tr>\n",
       "      <th>acc46dbda733</th>\n",
       "      <td>0.172015</td>\n",
       "    </tr>\n",
       "    <tr>\n",
       "      <th>eb33cd6dac70</th>\n",
       "      <td>0.144820</td>\n",
       "    </tr>\n",
       "    <tr>\n",
       "      <th>f9db673cb425</th>\n",
       "      <td>0.121326</td>\n",
       "    </tr>\n",
       "    <tr>\n",
       "      <th>32727c2ed7e5</th>\n",
       "      <td>0.177113</td>\n",
       "    </tr>\n",
       "    <tr>\n",
       "      <th>2e6f289d2676</th>\n",
       "      <td>0.129748</td>\n",
       "    </tr>\n",
       "    <tr>\n",
       "      <th>58fa2c39f791</th>\n",
       "      <td>0.179550</td>\n",
       "    </tr>\n",
       "    <tr>\n",
       "      <th>0e1a370c12c7</th>\n",
       "      <td>0.122626</td>\n",
       "    </tr>\n",
       "    <tr>\n",
       "      <th>cc4f7fd3d2f2</th>\n",
       "      <td>0.201878</td>\n",
       "    </tr>\n",
       "    <tr>\n",
       "      <th>29a342aa8508</th>\n",
       "      <td>0.168109</td>\n",
       "    </tr>\n",
       "    <tr>\n",
       "      <th>fce6b0de65f8</th>\n",
       "      <td>0.129013</td>\n",
       "    </tr>\n",
       "    <tr>\n",
       "      <th>dae17c1850b0</th>\n",
       "      <td>0.192845</td>\n",
       "    </tr>\n",
       "    <tr>\n",
       "      <th>549b1c9354e3</th>\n",
       "      <td>0.160006</td>\n",
       "    </tr>\n",
       "    <tr>\n",
       "      <th>0915772bb21c</th>\n",
       "      <td>0.146283</td>\n",
       "    </tr>\n",
       "    <tr>\n",
       "      <th>d8984ced6639</th>\n",
       "      <td>0.310851</td>\n",
       "    </tr>\n",
       "    <tr>\n",
       "      <th>e7c68be28a03</th>\n",
       "      <td>0.169192</td>\n",
       "    </tr>\n",
       "    <tr>\n",
       "      <th>a96a4c5ad75a</th>\n",
       "      <td>0.126810</td>\n",
       "    </tr>\n",
       "    <tr>\n",
       "      <th>fdcd9910edf3</th>\n",
       "      <td>0.320041</td>\n",
       "    </tr>\n",
       "    <tr>\n",
       "      <th>9f2200aed300</th>\n",
       "      <td>0.178819</td>\n",
       "    </tr>\n",
       "    <tr>\n",
       "      <th>70813f518de4</th>\n",
       "      <td>0.159344</td>\n",
       "    </tr>\n",
       "    <tr>\n",
       "      <th>a22a2eeb5dd2</th>\n",
       "      <td>0.134899</td>\n",
       "    </tr>\n",
       "    <tr>\n",
       "      <th>ed7fbb0733c1</th>\n",
       "      <td>0.434531</td>\n",
       "    </tr>\n",
       "    <tr>\n",
       "      <th>d374d332992f</th>\n",
       "      <td>0.153006</td>\n",
       "    </tr>\n",
       "  </tbody>\n",
       "</table>\n",
       "<p>508438 rows × 1 columns</p>\n",
       "</div>"
      ],
      "text/plain": [
       "              deal_probability\n",
       "item_id                       \n",
       "6544e41a8817          0.158182\n",
       "65b9484d670f          0.285443\n",
       "8bab230b2ecd          0.167058\n",
       "8e348601fefc          0.215544\n",
       "8bd2fe400b89          0.190459\n",
       "c63dbd6c657f          0.168328\n",
       "6d1a410df86e          0.135549\n",
       "e8d3e7922b80          0.137194\n",
       "2bc1ab208462          0.156150\n",
       "7e05d77a9181          0.163117\n",
       "e2ec19a3ca2b          0.230237\n",
       "68069bfc06c2          0.147024\n",
       "595842ba248a          0.147137\n",
       "4130d5cfc5de          0.165821\n",
       "c21ede41b256          0.166754\n",
       "f56e4684ceda          0.287493\n",
       "e7ab88d19965          0.155012\n",
       "81c1cd9f4e4e          0.163457\n",
       "2c989cea0e97          0.154539\n",
       "36a35020ebeb          0.213114\n",
       "60b0cc9cf25e          0.146436\n",
       "ac0a01acccc2          0.189874\n",
       "683c444d6a40          0.227063\n",
       "5580ccd3358a          0.134554\n",
       "4596527723ec          0.394021\n",
       "2e414b752d9f          0.135428\n",
       "032e21134f2f          0.153021\n",
       "fd6f6a2ed415          0.170865\n",
       "44da737c70af          0.130545\n",
       "272e2ee33c62          0.373913\n",
       "...                        ...\n",
       "df8001ca5897          0.164216\n",
       "0455281c86fb          0.189746\n",
       "482d3253c9f1          0.133155\n",
       "9278e7c14cd0          0.120874\n",
       "9041d0340b49          0.136930\n",
       "872c382ce446          0.129704\n",
       "67448ad8941c          0.236393\n",
       "6ffaf4c20469          0.165521\n",
       "acc46dbda733          0.172015\n",
       "eb33cd6dac70          0.144820\n",
       "f9db673cb425          0.121326\n",
       "32727c2ed7e5          0.177113\n",
       "2e6f289d2676          0.129748\n",
       "58fa2c39f791          0.179550\n",
       "0e1a370c12c7          0.122626\n",
       "cc4f7fd3d2f2          0.201878\n",
       "29a342aa8508          0.168109\n",
       "fce6b0de65f8          0.129013\n",
       "dae17c1850b0          0.192845\n",
       "549b1c9354e3          0.160006\n",
       "0915772bb21c          0.146283\n",
       "d8984ced6639          0.310851\n",
       "e7c68be28a03          0.169192\n",
       "a96a4c5ad75a          0.126810\n",
       "fdcd9910edf3          0.320041\n",
       "9f2200aed300          0.178819\n",
       "70813f518de4          0.159344\n",
       "a22a2eeb5dd2          0.134899\n",
       "ed7fbb0733c1          0.434531\n",
       "d374d332992f          0.153006\n",
       "\n",
       "[508438 rows x 1 columns]"
      ]
     },
     "execution_count": 37,
     "metadata": {},
     "output_type": "execute_result"
    }
   ],
   "source": [
    "submission"
   ]
  }
 ],
 "metadata": {
  "kernelspec": {
   "display_name": "Python 3",
   "language": "python",
   "name": "python3"
  },
  "language_info": {
   "codemirror_mode": {
    "name": "ipython",
    "version": 3
   },
   "file_extension": ".py",
   "mimetype": "text/x-python",
   "name": "python",
   "nbconvert_exporter": "python",
   "pygments_lexer": "ipython3",
   "version": "3.6.4"
  }
 },
 "nbformat": 4,
 "nbformat_minor": 2
}
