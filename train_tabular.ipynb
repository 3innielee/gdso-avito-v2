{
 "cells": [
  {
   "cell_type": "code",
   "execution_count": 20,
   "metadata": {},
   "outputs": [],
   "source": [
    "import pandas as pd\n",
    "import numpy as np\n",
    "import matplotlib.pyplot as plt\n",
    "\n",
    "from utils import TpotAutoml\n",
    "from sklearn.model_selection import TimeSeriesSplit\n",
    "\n",
    "from sklearn.ensemble import GradientBoostingRegressor, RandomForestRegressor\n",
    "from sklearn.model_selection import RandomizedSearchCV\n",
    "\n",
    "%matplotlib inline\n",
    "pd.options.mode.chained_assignment = None"
   ]
  },
  {
   "cell_type": "code",
   "execution_count": 2,
   "metadata": {},
   "outputs": [],
   "source": [
    "# user inputs:\n",
    "RS = 13\n",
    "np.random.seed(RS)\n",
    "KEEP_ROWS_FRAC = 0.05 # set to 1 if all rows are meant to be kept\n",
    "skiprows_func = lambda i: i>0 and np.random.rand() > KEEP_ROWS_FRAC"
   ]
  },
  {
   "cell_type": "code",
   "execution_count": 3,
   "metadata": {},
   "outputs": [],
   "source": [
    "usecols=['item_id', 'activation_date', 'city', 'region',\n",
    "                              'parent_category_name', 'category_name', \n",
    "                             'item_seq_number', 'user_type', 'price_norm']"
   ]
  },
  {
   "cell_type": "code",
   "execution_count": 4,
   "metadata": {},
   "outputs": [],
   "source": [
    "all_samples = pd.read_csv('data/all_samples_no_nulls.csv', usecols=usecols, skiprows=skiprows_func)"
   ]
  },
  {
   "cell_type": "code",
   "execution_count": 5,
   "metadata": {},
   "outputs": [],
   "source": [
    "train = pd.read_csv('data/train.csv', usecols=['item_id', 'activation_date', 'deal_probability'])"
   ]
  },
  {
   "cell_type": "code",
   "execution_count": 6,
   "metadata": {},
   "outputs": [
    {
     "data": {
      "text/html": [
       "<div>\n",
       "<style scoped>\n",
       "    .dataframe tbody tr th:only-of-type {\n",
       "        vertical-align: middle;\n",
       "    }\n",
       "\n",
       "    .dataframe tbody tr th {\n",
       "        vertical-align: top;\n",
       "    }\n",
       "\n",
       "    .dataframe thead th {\n",
       "        text-align: right;\n",
       "    }\n",
       "</style>\n",
       "<table border=\"1\" class=\"dataframe\">\n",
       "  <thead>\n",
       "    <tr style=\"text-align: right;\">\n",
       "      <th></th>\n",
       "      <th>item_id</th>\n",
       "      <th>region</th>\n",
       "      <th>city</th>\n",
       "      <th>parent_category_name</th>\n",
       "      <th>category_name</th>\n",
       "      <th>item_seq_number</th>\n",
       "      <th>activation_date</th>\n",
       "      <th>user_type</th>\n",
       "      <th>price_norm</th>\n",
       "    </tr>\n",
       "  </thead>\n",
       "  <tbody>\n",
       "    <tr>\n",
       "      <th>0</th>\n",
       "      <td>d5480bb4a6e4</td>\n",
       "      <td>Ханты-Мансийский АО</td>\n",
       "      <td>Ханты-Мансийск</td>\n",
       "      <td>Недвижимость</td>\n",
       "      <td>Квартиры</td>\n",
       "      <td>6.0</td>\n",
       "      <td>2017-03-25</td>\n",
       "      <td>Private</td>\n",
       "      <td>-0.793391</td>\n",
       "    </tr>\n",
       "    <tr>\n",
       "      <th>1</th>\n",
       "      <td>071e1ed13c5c</td>\n",
       "      <td>Омская область</td>\n",
       "      <td>Москаленки</td>\n",
       "      <td>Личные вещи</td>\n",
       "      <td>Одежда, обувь, аксессуары</td>\n",
       "      <td>4.0</td>\n",
       "      <td>2017-03-24</td>\n",
       "      <td>Private</td>\n",
       "      <td>0.069591</td>\n",
       "    </tr>\n",
       "    <tr>\n",
       "      <th>2</th>\n",
       "      <td>065a4daba35f</td>\n",
       "      <td>Нижегородская область</td>\n",
       "      <td>Нижний Новгород</td>\n",
       "      <td>Животные</td>\n",
       "      <td>Товары для животных</td>\n",
       "      <td>310.0</td>\n",
       "      <td>2017-03-16</td>\n",
       "      <td>Company</td>\n",
       "      <td>0.000000</td>\n",
       "    </tr>\n",
       "    <tr>\n",
       "      <th>3</th>\n",
       "      <td>71d9399b59a2</td>\n",
       "      <td>Саратовская область</td>\n",
       "      <td>Саратов</td>\n",
       "      <td>Личные вещи</td>\n",
       "      <td>Одежда, обувь, аксессуары</td>\n",
       "      <td>12.0</td>\n",
       "      <td>2017-03-25</td>\n",
       "      <td>Private</td>\n",
       "      <td>0.069591</td>\n",
       "    </tr>\n",
       "    <tr>\n",
       "      <th>4</th>\n",
       "      <td>f5259a31c938</td>\n",
       "      <td>Владимирская область</td>\n",
       "      <td>Владимир</td>\n",
       "      <td>Личные вещи</td>\n",
       "      <td>Одежда, обувь, аксессуары</td>\n",
       "      <td>80.0</td>\n",
       "      <td>2017-03-24</td>\n",
       "      <td>Company</td>\n",
       "      <td>0.654802</td>\n",
       "    </tr>\n",
       "  </tbody>\n",
       "</table>\n",
       "</div>"
      ],
      "text/plain": [
       "        item_id                 region             city parent_category_name  \\\n",
       "0  d5480bb4a6e4    Ханты-Мансийский АО   Ханты-Мансийск         Недвижимость   \n",
       "1  071e1ed13c5c         Омская область       Москаленки          Личные вещи   \n",
       "2  065a4daba35f  Нижегородская область  Нижний Новгород             Животные   \n",
       "3  71d9399b59a2    Саратовская область          Саратов          Личные вещи   \n",
       "4  f5259a31c938   Владимирская область         Владимир          Личные вещи   \n",
       "\n",
       "               category_name  item_seq_number activation_date user_type  \\\n",
       "0                   Квартиры              6.0      2017-03-25   Private   \n",
       "1  Одежда, обувь, аксессуары              4.0      2017-03-24   Private   \n",
       "2        Товары для животных            310.0      2017-03-16   Company   \n",
       "3  Одежда, обувь, аксессуары             12.0      2017-03-25   Private   \n",
       "4  Одежда, обувь, аксессуары             80.0      2017-03-24   Company   \n",
       "\n",
       "   price_norm  \n",
       "0   -0.793391  \n",
       "1    0.069591  \n",
       "2    0.000000  \n",
       "3    0.069591  \n",
       "4    0.654802  "
      ]
     },
     "execution_count": 6,
     "metadata": {},
     "output_type": "execute_result"
    }
   ],
   "source": [
    "all_samples.head()"
   ]
  },
  {
   "cell_type": "code",
   "execution_count": 7,
   "metadata": {},
   "outputs": [],
   "source": [
    "train = train.merge(all_samples, how='left', on=['item_id', 'activation_date'])"
   ]
  },
  {
   "cell_type": "code",
   "execution_count": 8,
   "metadata": {},
   "outputs": [],
   "source": [
    "train = train.dropna()"
   ]
  },
  {
   "cell_type": "code",
   "execution_count": 9,
   "metadata": {},
   "outputs": [],
   "source": [
    "train = train.sort_values(by='activation_date').drop('activation_date', axis=1).set_index('item_id')"
   ]
  },
  {
   "cell_type": "code",
   "execution_count": 10,
   "metadata": {},
   "outputs": [],
   "source": [
    "train = pd.get_dummies(train)"
   ]
  },
  {
   "cell_type": "code",
   "execution_count": 11,
   "metadata": {},
   "outputs": [],
   "source": [
    "target = 'deal_probability'\n",
    "TIMEOUT_MINS = None\n",
    "SCORING = 'r2'\n",
    "RS=27\n",
    "X = (train.drop(target, axis=1)).values\n",
    "y = train[target].values\n",
    "tss = TimeSeriesSplit(n_splits=4)\n",
    "train_index, test_index = list(tss.split(X))[-1]\n",
    "X_train, X_test = X[train_index], X[test_index]\n",
    "y_train, y_test = y[train_index], y[test_index]\n",
    "\n",
    "config_dict = {'sklearn.ensemble.GradientBoostingRegressor': {\n",
    "        'n_estimators': [100, 200, 400],\n",
    "        'loss': [\"ls\", \"lad\", \"huber\", \"quantile\"],\n",
    "        'learning_rate': [1e-3, 1e-2, 1e-1, 0.5, 1.],\n",
    "        'max_depth': range(1, 11),\n",
    "        'min_samples_split': range(2, 21),\n",
    "        'min_samples_leaf': range(1, 21),\n",
    "        'subsample': np.arange(0.05, 1.01, 0.05),\n",
    "        'max_features': np.arange(0.05, 1.01, 0.05),\n",
    "        'alpha': [0.75, 0.8, 0.85, 0.9, 0.95, 0.99]\n",
    "    },\n",
    "        'sklearn.ensemble.RandomForestRegressor': {\n",
    "        'n_estimators': [100, 200, 400],\n",
    "        'max_features': np.arange(0.05, 1.01, 0.05),\n",
    "        'min_samples_split': range(2, 21),\n",
    "        'min_samples_leaf': range(1, 21),\n",
    "        'bootstrap': [True, False]\n",
    "    },\n",
    "              }\n",
    "\n",
    "tpot = TpotAutoml(mode='regression',\n",
    "                  max_time_mins=TIMEOUT_MINS,\n",
    "                  generations = 1, population_size=1,\n",
    "                  scoring=SCORING,\n",
    "                  random_state=RS,\n",
    "                  n_jobs=1,\n",
    "                  verbosity=2,\n",
    "                  cv=TimeSeriesSplit(n_splits=3),\n",
    "                  config_dict=config_dict,                 \n",
    "                 )"
   ]
  },
  {
   "cell_type": "code",
   "execution_count": 12,
   "metadata": {},
   "outputs": [],
   "source": [
    "# base_model = GradientBoostingRegressor()\n",
    "base_model = RandomForestRegressor()\n",
    "tpot = RandomizedSearchCV(estimator=base_model, random_state=RS,\n",
    "#                           param_distributions=config_dict['sklearn.ensemble.GradientBoostingRegressor'],\n",
    "                          param_distributions=config_dict['sklearn.ensemble.RandomForestRegressor'],\n",
    "                         n_iter=15,\n",
    "                         scoring='r2',\n",
    "                         cv=TimeSeriesSplit(n_splits=4),\n",
    "                         verbose=2,\n",
    "                         n_jobs=4)"
   ]
  },
  {
   "cell_type": "code",
   "execution_count": 13,
   "metadata": {},
   "outputs": [
    {
     "name": "stdout",
     "output_type": "stream",
     "text": [
      "Fitting 4 folds for each of 15 candidates, totalling 60 fits\n",
      "[CV] n_estimators=100, min_samples_split=5, min_samples_leaf=11, max_features=0.25, bootstrap=True \n",
      "[CV] n_estimators=100, min_samples_split=5, min_samples_leaf=11, max_features=0.25, bootstrap=True \n",
      "[CV] n_estimators=100, min_samples_split=5, min_samples_leaf=11, max_features=0.25, bootstrap=True \n",
      "[CV] n_estimators=100, min_samples_split=5, min_samples_leaf=11, max_features=0.25, bootstrap=True \n",
      "[CV] n_estimators=400, min_samples_split=11, min_samples_leaf=4, max_features=0.6500000000000001, bootstrap=False \n",
      "[CV] n_estimators=400, min_samples_split=11, min_samples_leaf=4, max_features=0.6500000000000001, bootstrap=False \n",
      "[CV] n_estimators=400, min_samples_split=11, min_samples_leaf=4, max_features=0.6500000000000001, bootstrap=False \n",
      "[CV] n_estimators=400, min_samples_split=11, min_samples_leaf=4, max_features=0.6500000000000001, bootstrap=False \n",
      "[CV]  n_estimators=100, min_samples_split=5, min_samples_leaf=11, max_features=0.25, bootstrap=True, total= 1.1min\n",
      "[CV] n_estimators=400, min_samples_split=2, min_samples_leaf=2, max_features=0.7000000000000001, bootstrap=True \n",
      "[CV]  n_estimators=100, min_samples_split=5, min_samples_leaf=11, max_features=0.25, bootstrap=True, total= 2.9min\n",
      "[CV] n_estimators=400, min_samples_split=2, min_samples_leaf=2, max_features=0.7000000000000001, bootstrap=True \n",
      "[CV]  n_estimators=100, min_samples_split=5, min_samples_leaf=11, max_features=0.25, bootstrap=True, total= 6.0min\n",
      "[CV] n_estimators=400, min_samples_split=2, min_samples_leaf=2, max_features=0.7000000000000001, bootstrap=True \n",
      "[CV]  n_estimators=100, min_samples_split=5, min_samples_leaf=11, max_features=0.25, bootstrap=True, total= 8.8min\n",
      "[CV] n_estimators=400, min_samples_split=2, min_samples_leaf=2, max_features=0.7000000000000001, bootstrap=True \n",
      "[CV]  n_estimators=400, min_samples_split=2, min_samples_leaf=2, max_features=0.7000000000000001, bootstrap=True, total=10.6min\n",
      "[CV] n_estimators=100, min_samples_split=3, min_samples_leaf=6, max_features=0.25, bootstrap=True \n",
      "[CV]  n_estimators=100, min_samples_split=3, min_samples_leaf=6, max_features=0.25, bootstrap=True, total=  59.8s\n",
      "[CV] n_estimators=100, min_samples_split=3, min_samples_leaf=6, max_features=0.25, bootstrap=True \n",
      "[CV]  n_estimators=100, min_samples_split=3, min_samples_leaf=6, max_features=0.25, bootstrap=True, total= 2.7min\n",
      "[CV] n_estimators=100, min_samples_split=3, min_samples_leaf=6, max_features=0.25, bootstrap=True \n",
      "[CV]  n_estimators=400, min_samples_split=11, min_samples_leaf=4, max_features=0.6500000000000001, bootstrap=False, total=15.4min\n",
      "[CV] n_estimators=100, min_samples_split=3, min_samples_leaf=6, max_features=0.25, bootstrap=True \n",
      "[CV]  n_estimators=100, min_samples_split=3, min_samples_leaf=6, max_features=0.25, bootstrap=True, total= 4.5min\n",
      "[CV] n_estimators=200, min_samples_split=4, min_samples_leaf=7, max_features=0.35000000000000003, bootstrap=False \n",
      "[CV]  n_estimators=100, min_samples_split=3, min_samples_leaf=6, max_features=0.25, bootstrap=True, total= 6.8min\n",
      "[CV] n_estimators=200, min_samples_split=4, min_samples_leaf=7, max_features=0.35000000000000003, bootstrap=False \n",
      "[CV]  n_estimators=200, min_samples_split=4, min_samples_leaf=7, max_features=0.35000000000000003, bootstrap=False, total= 4.0min\n",
      "[CV] n_estimators=200, min_samples_split=4, min_samples_leaf=7, max_features=0.35000000000000003, bootstrap=False \n",
      "[CV]  n_estimators=400, min_samples_split=2, min_samples_leaf=2, max_features=0.7000000000000001, bootstrap=True, total=30.2min\n",
      "[CV] n_estimators=200, min_samples_split=4, min_samples_leaf=7, max_features=0.35000000000000003, bootstrap=False \n",
      "[CV]  n_estimators=200, min_samples_split=4, min_samples_leaf=7, max_features=0.35000000000000003, bootstrap=False, total=18.1min\n",
      "[CV] n_estimators=400, min_samples_split=13, min_samples_leaf=14, max_features=0.05, bootstrap=False \n",
      "[CV]  n_estimators=400, min_samples_split=13, min_samples_leaf=14, max_features=0.05, bootstrap=False, total= 4.2min\n",
      "[CV] n_estimators=400, min_samples_split=13, min_samples_leaf=14, max_features=0.05, bootstrap=False \n",
      "[CV]  n_estimators=400, min_samples_split=11, min_samples_leaf=4, max_features=0.6500000000000001, bootstrap=False, total=49.7min\n",
      "[CV] n_estimators=400, min_samples_split=13, min_samples_leaf=14, max_features=0.05, bootstrap=False \n",
      "[CV]  n_estimators=400, min_samples_split=13, min_samples_leaf=14, max_features=0.05, bootstrap=False, total=10.6min\n",
      "[CV] n_estimators=400, min_samples_split=13, min_samples_leaf=14, max_features=0.05, bootstrap=False \n",
      "[CV]  n_estimators=200, min_samples_split=4, min_samples_leaf=7, max_features=0.35000000000000003, bootstrap=False, total=36.0min\n",
      "[CV] n_estimators=100, min_samples_split=19, min_samples_leaf=19, max_features=0.7000000000000001, bootstrap=True \n",
      "[CV]  n_estimators=100, min_samples_split=19, min_samples_leaf=19, max_features=0.7000000000000001, bootstrap=True, total= 3.0min\n",
      "[CV] n_estimators=100, min_samples_split=19, min_samples_leaf=19, max_features=0.7000000000000001, bootstrap=True \n",
      "[CV]  n_estimators=400, min_samples_split=13, min_samples_leaf=14, max_features=0.05, bootstrap=False, total=20.0min\n",
      "[CV] n_estimators=100, min_samples_split=19, min_samples_leaf=19, max_features=0.7000000000000001, bootstrap=True \n",
      "[CV]  n_estimators=100, min_samples_split=19, min_samples_leaf=19, max_features=0.7000000000000001, bootstrap=True, total= 8.8min\n",
      "[CV] n_estimators=100, min_samples_split=19, min_samples_leaf=19, max_features=0.7000000000000001, bootstrap=True \n",
      "[CV]  n_estimators=400, min_samples_split=2, min_samples_leaf=2, max_features=0.7000000000000001, bootstrap=True, total=67.3min\n",
      "[CV] n_estimators=100, min_samples_split=6, min_samples_leaf=10, max_features=0.6500000000000001, bootstrap=False \n",
      "[CV]  n_estimators=100, min_samples_split=6, min_samples_leaf=10, max_features=0.6500000000000001, bootstrap=False, total= 5.5min\n",
      "[CV] n_estimators=100, min_samples_split=6, min_samples_leaf=10, max_features=0.6500000000000001, bootstrap=False \n",
      "[CV]  n_estimators=400, min_samples_split=13, min_samples_leaf=14, max_features=0.05, bootstrap=False, total=30.3min\n",
      "[CV] n_estimators=100, min_samples_split=6, min_samples_leaf=10, max_features=0.6500000000000001, bootstrap=False \n",
      "[CV]  n_estimators=100, min_samples_split=19, min_samples_leaf=19, max_features=0.7000000000000001, bootstrap=True, total=16.0min\n",
      "[CV] n_estimators=100, min_samples_split=6, min_samples_leaf=10, max_features=0.6500000000000001, bootstrap=False \n",
      "[CV]  n_estimators=200, min_samples_split=4, min_samples_leaf=7, max_features=0.35000000000000003, bootstrap=False, total=57.4min\n"
     ]
    },
    {
     "name": "stderr",
     "output_type": "stream",
     "text": [
      "[Parallel(n_jobs=-1)]: Done  25 tasks      | elapsed: 90.9min\n"
     ]
    },
    {
     "name": "stdout",
     "output_type": "stream",
     "text": [
      "[CV] n_estimators=400, min_samples_split=20, min_samples_leaf=10, max_features=0.9500000000000001, bootstrap=False \n",
      "[CV]  n_estimators=100, min_samples_split=6, min_samples_leaf=10, max_features=0.6500000000000001, bootstrap=False, total=16.9min\n",
      "[CV] n_estimators=400, min_samples_split=20, min_samples_leaf=10, max_features=0.9500000000000001, bootstrap=False \n",
      "[CV]  n_estimators=100, min_samples_split=19, min_samples_leaf=19, max_features=0.7000000000000001, bootstrap=True, total=26.8min\n",
      "[CV] n_estimators=400, min_samples_split=20, min_samples_leaf=10, max_features=0.9500000000000001, bootstrap=False \n",
      "[CV]  n_estimators=400, min_samples_split=11, min_samples_leaf=4, max_features=0.6500000000000001, bootstrap=False, total=106.3min\n",
      "[CV] n_estimators=400, min_samples_split=20, min_samples_leaf=10, max_features=0.9500000000000001, bootstrap=False \n",
      "[CV]  n_estimators=100, min_samples_split=6, min_samples_leaf=10, max_features=0.6500000000000001, bootstrap=False, total=29.7min\n",
      "[CV] n_estimators=100, min_samples_split=9, min_samples_leaf=3, max_features=0.15000000000000002, bootstrap=False \n",
      "[CV]  n_estimators=100, min_samples_split=9, min_samples_leaf=3, max_features=0.15000000000000002, bootstrap=False, total= 2.7min\n",
      "[CV] n_estimators=100, min_samples_split=9, min_samples_leaf=3, max_features=0.15000000000000002, bootstrap=False \n",
      "[CV]  n_estimators=400, min_samples_split=20, min_samples_leaf=10, max_features=0.9500000000000001, bootstrap=False, total=29.2min\n",
      "[CV] n_estimators=100, min_samples_split=9, min_samples_leaf=3, max_features=0.15000000000000002, bootstrap=False \n",
      "[CV]  n_estimators=100, min_samples_split=9, min_samples_leaf=3, max_features=0.15000000000000002, bootstrap=False, total= 6.4min\n",
      "[CV] n_estimators=100, min_samples_split=9, min_samples_leaf=3, max_features=0.15000000000000002, bootstrap=False \n",
      "[CV]  n_estimators=400, min_samples_split=2, min_samples_leaf=2, max_features=0.7000000000000001, bootstrap=True, total=116.7min\n",
      "[CV] n_estimators=400, min_samples_split=19, min_samples_leaf=11, max_features=0.8500000000000001, bootstrap=False \n",
      "[CV]  n_estimators=100, min_samples_split=9, min_samples_leaf=3, max_features=0.15000000000000002, bootstrap=False, total=11.0min\n",
      "[CV] n_estimators=400, min_samples_split=19, min_samples_leaf=11, max_features=0.8500000000000001, bootstrap=False \n",
      "[CV]  n_estimators=100, min_samples_split=6, min_samples_leaf=10, max_features=0.6500000000000001, bootstrap=False, total=46.7min\n",
      "[CV] n_estimators=400, min_samples_split=19, min_samples_leaf=11, max_features=0.8500000000000001, bootstrap=False \n",
      "[CV]  n_estimators=100, min_samples_split=9, min_samples_leaf=3, max_features=0.15000000000000002, bootstrap=False, total=13.6min\n",
      "[CV] n_estimators=400, min_samples_split=19, min_samples_leaf=11, max_features=0.8500000000000001, bootstrap=False \n",
      "[CV]  n_estimators=400, min_samples_split=19, min_samples_leaf=11, max_features=0.8500000000000001, bootstrap=False, total=22.2min\n",
      "[CV] n_estimators=200, min_samples_split=12, min_samples_leaf=3, max_features=0.8500000000000001, bootstrap=False \n",
      "[CV]  n_estimators=200, min_samples_split=12, min_samples_leaf=3, max_features=0.8500000000000001, bootstrap=False, total=15.5min\n",
      "[CV] n_estimators=200, min_samples_split=12, min_samples_leaf=3, max_features=0.8500000000000001, bootstrap=False \n",
      "[CV]  n_estimators=400, min_samples_split=11, min_samples_leaf=4, max_features=0.6500000000000001, bootstrap=False, total=178.3min\n",
      "[CV] n_estimators=200, min_samples_split=12, min_samples_leaf=3, max_features=0.8500000000000001, bootstrap=False \n",
      "[CV]  n_estimators=400, min_samples_split=20, min_samples_leaf=10, max_features=0.9500000000000001, bootstrap=False, total=87.7min\n",
      "[CV] n_estimators=200, min_samples_split=12, min_samples_leaf=3, max_features=0.8500000000000001, bootstrap=False \n",
      "[CV]  n_estimators=400, min_samples_split=19, min_samples_leaf=11, max_features=0.8500000000000001, bootstrap=False, total=77.5min\n",
      "[CV] n_estimators=200, min_samples_split=4, min_samples_leaf=20, max_features=0.2, bootstrap=False \n",
      "[CV]  n_estimators=200, min_samples_split=12, min_samples_leaf=3, max_features=0.8500000000000001, bootstrap=False, total=45.3min\n",
      "[CV] n_estimators=200, min_samples_split=4, min_samples_leaf=20, max_features=0.2, bootstrap=False \n",
      "[CV]  n_estimators=200, min_samples_split=4, min_samples_leaf=20, max_features=0.2, bootstrap=False, total= 4.9min\n",
      "[CV] n_estimators=200, min_samples_split=4, min_samples_leaf=20, max_features=0.2, bootstrap=False \n",
      "[CV]  n_estimators=200, min_samples_split=4, min_samples_leaf=20, max_features=0.2, bootstrap=False, total=43.7min\n",
      "[CV] n_estimators=200, min_samples_split=4, min_samples_leaf=20, max_features=0.2, bootstrap=False \n",
      "[CV]  n_estimators=200, min_samples_split=4, min_samples_leaf=20, max_features=0.2, bootstrap=False, total=47.7min\n",
      "[CV] n_estimators=400, min_samples_split=11, min_samples_leaf=14, max_features=0.55, bootstrap=True \n",
      "[CV]  n_estimators=400, min_samples_split=20, min_samples_leaf=10, max_features=0.9500000000000001, bootstrap=False, total=166.1min\n",
      "[CV] n_estimators=400, min_samples_split=11, min_samples_leaf=14, max_features=0.55, bootstrap=True \n",
      "[CV]  n_estimators=400, min_samples_split=11, min_samples_leaf=14, max_features=0.55, bootstrap=True, total= 5.7min\n",
      "[CV] n_estimators=400, min_samples_split=11, min_samples_leaf=14, max_features=0.55, bootstrap=True \n",
      "[CV]  n_estimators=200, min_samples_split=12, min_samples_leaf=3, max_features=0.8500000000000001, bootstrap=False, total=92.8min\n",
      "[CV] n_estimators=400, min_samples_split=11, min_samples_leaf=14, max_features=0.55, bootstrap=True \n",
      "[CV]  n_estimators=200, min_samples_split=4, min_samples_leaf=20, max_features=0.2, bootstrap=False, total=19.1min\n",
      "[CV] n_estimators=100, min_samples_split=19, min_samples_leaf=4, max_features=0.25, bootstrap=False \n",
      "[CV]  n_estimators=100, min_samples_split=19, min_samples_leaf=4, max_features=0.25, bootstrap=False, total= 1.7min\n",
      "[CV] n_estimators=100, min_samples_split=19, min_samples_leaf=4, max_features=0.25, bootstrap=False \n",
      "[CV]  n_estimators=400, min_samples_split=19, min_samples_leaf=11, max_features=0.8500000000000001, bootstrap=False, total=144.3min\n",
      "[CV] n_estimators=100, min_samples_split=19, min_samples_leaf=4, max_features=0.25, bootstrap=False \n",
      "[CV]  n_estimators=100, min_samples_split=19, min_samples_leaf=4, max_features=0.25, bootstrap=False, total= 4.5min\n",
      "[CV] n_estimators=100, min_samples_split=19, min_samples_leaf=4, max_features=0.25, bootstrap=False \n",
      "[CV]  n_estimators=400, min_samples_split=11, min_samples_leaf=14, max_features=0.55, bootstrap=True, total=15.8min\n",
      "[CV]  n_estimators=100, min_samples_split=19, min_samples_leaf=4, max_features=0.25, bootstrap=False, total= 7.5min\n",
      "[CV]  n_estimators=100, min_samples_split=19, min_samples_leaf=4, max_features=0.25, bootstrap=False, total=10.2min\n",
      "[CV]  n_estimators=400, min_samples_split=11, min_samples_leaf=14, max_features=0.55, bootstrap=True, total=24.8min\n",
      "[CV]  n_estimators=200, min_samples_split=12, min_samples_leaf=3, max_features=0.8500000000000001, bootstrap=False, total=109.6min\n",
      "[CV]  n_estimators=400, min_samples_split=11, min_samples_leaf=14, max_features=0.55, bootstrap=True, total=29.6min\n",
      "[CV]  n_estimators=400, min_samples_split=20, min_samples_leaf=10, max_features=0.9500000000000001, bootstrap=False, total=197.5min\n",
      "[CV]  n_estimators=400, min_samples_split=19, min_samples_leaf=11, max_features=0.8500000000000001, bootstrap=False, total=167.5min\n"
     ]
    },
    {
     "name": "stderr",
     "output_type": "stream",
     "text": [
      "[Parallel(n_jobs=-1)]: Done  60 out of  60 | elapsed: 306.1min finished\n"
     ]
    },
    {
     "data": {
      "text/plain": [
       "RandomizedSearchCV(cv=TimeSeriesSplit(max_train_size=None, n_splits=4),\n",
       "          error_score='raise',\n",
       "          estimator=RandomForestRegressor(bootstrap=True, criterion='mse', max_depth=None,\n",
       "           max_features='auto', max_leaf_nodes=None,\n",
       "           min_impurity_decrease=0.0, min_impurity_split=None,\n",
       "           min_samples_leaf=1, min_samples_split=2,\n",
       "           min_weight_fraction_leaf=0.0, n_estimators=10, n_jobs=1,\n",
       "           oob_score=False, random_state=None, verbose=0, warm_start=False),\n",
       "          fit_params=None, iid=True, n_iter=15, n_jobs=-1,\n",
       "          param_distributions={'n_estimators': [100, 200, 400], 'max_features': array([0.05, 0.1 , 0.15, 0.2 , 0.25, 0.3 , 0.35, 0.4 , 0.45, 0.5 , 0.55,\n",
       "       0.6 , 0.65, 0.7 , 0.75, 0.8 , 0.85, 0.9 , 0.95, 1.  ]), 'min_samples_split': range(2, 21), 'min_samples_leaf': range(1, 21), 'bootstrap': [True, False]},\n",
       "          pre_dispatch='2*n_jobs', random_state=27, refit=True,\n",
       "          return_train_score='warn', scoring='r2', verbose=2)"
      ]
     },
     "execution_count": 13,
     "metadata": {},
     "output_type": "execute_result"
    }
   ],
   "source": [
    "tpot.fit(X_train, y_train)"
   ]
  },
  {
   "cell_type": "code",
   "execution_count": 14,
   "metadata": {},
   "outputs": [],
   "source": [
    "feat_importance_entropy = list(zip(train.drop(target, axis=1).columns.values, tpot.best_estimator_.feature_importances_))"
   ]
  },
  {
   "cell_type": "code",
   "execution_count": 19,
   "metadata": {},
   "outputs": [
    {
     "data": {
      "text/plain": [
       "[('parent_category_name_Личные вещи', 0.12835782441363583),\n",
       " ('price_norm', 0.11902642762016383),\n",
       " ('parent_category_name_Услуги', 0.10318757189515386),\n",
       " ('category_name_Предложение услуг', 0.10120484703812113),\n",
       " ('item_seq_number', 0.08581687134049139),\n",
       " ('category_name_Одежда, обувь, аксессуары', 0.0643807481694361),\n",
       " ('category_name_Детская одежда и обувь', 0.05015162931894308),\n",
       " ('category_name_Товары для детей и игрушки', 0.04185459160413521),\n",
       " ('category_name_Автомобили', 0.022401364926905185),\n",
       " ('parent_category_name_Транспорт', 0.021698789049190138)]"
      ]
     },
     "execution_count": 19,
     "metadata": {},
     "output_type": "execute_result"
    }
   ],
   "source": [
    "sorted(list(feat_importance_entropy), key=lambda x:x[1], reverse=True)[:10]"
   ]
  },
  {
   "cell_type": "code",
   "execution_count": 16,
   "metadata": {},
   "outputs": [
    {
     "name": "stdout",
     "output_type": "stream",
     "text": [
      "0.15932087617227075\n"
     ]
    }
   ],
   "source": [
    "test_score = tpot.score(X_test, y_test)\n",
    "print(test_score)"
   ]
  },
  {
   "cell_type": "code",
   "execution_count": 17,
   "metadata": {},
   "outputs": [
    {
     "data": {
      "text/plain": [
       "0.2373720652311736"
      ]
     },
     "execution_count": 17,
     "metadata": {},
     "output_type": "execute_result"
    }
   ],
   "source": [
    "rmse = np.sqrt(np.mean((tpot.predict(X_test) - y_test) ** 2))\n",
    "rmse"
   ]
  },
  {
   "cell_type": "code",
   "execution_count": 21,
   "metadata": {},
   "outputs": [
    {
     "name": "stdout",
     "output_type": "stream",
     "text": [
      "0.1416121326420318\n",
      "0.1374720400801603\n"
     ]
    },
    {
     "data": {
      "image/png": "[encoded data removed]",
      "text/plain": [
       "<matplotlib.figure.Figure at 0x11716cfd0>"
      ]
     },
     "metadata": {},
     "output_type": "display_data"
    }
   ],
   "source": [
    "plt.hist(tpot.predict(X_test), log=True, bins=100)\n",
    "print(tpot.predict(X_test).mean())\n",
    "print(y_test.mean())"
   ]
  },
  {
   "cell_type": "code",
   "execution_count": 25,
   "metadata": {},
   "outputs": [],
   "source": [
    "from analysis import Analysis\n",
    "ea = Analysis(tpot, X_train, y_train, X_test, y_test,\n",
    "                           mode='regression', target=target,\n",
    "                           features=train.drop(target, axis=1).columns,\n",
    "                           test_samples_index=test_index, random_state=RS)"
   ]
  },
  {
   "cell_type": "code",
   "execution_count": null,
   "metadata": {},
   "outputs": [],
   "source": [
    "ea.get_feature_importance(sort=True)"
   ]
  },
  {
   "cell_type": "code",
   "execution_count": null,
   "metadata": {},
   "outputs": [],
   "source": [
    "tpot.best_estimator_"
   ]
  },
  {
   "cell_type": "code",
   "execution_count": null,
   "metadata": {},
   "outputs": [],
   "source": [
    "test = pd.read_csv('data/test.csv', usecols=['item_id', 'activation_date'])\n",
    "len(test)"
   ]
  },
  {
   "cell_type": "code",
   "execution_count": null,
   "metadata": {},
   "outputs": [],
   "source": [
    "test = test.merge(all_samples, how='left', on=['item_id', 'activation_date'])\n",
    "len(test)"
   ]
  },
  {
   "cell_type": "code",
   "execution_count": null,
   "metadata": {},
   "outputs": [],
   "source": [
    "test = test.set_index('item_id')"
   ]
  },
  {
   "cell_type": "code",
   "execution_count": null,
   "metadata": {},
   "outputs": [],
   "source": [
    "test['deal_probability'] = tpot.predict(test.values)"
   ]
  },
  {
   "cell_type": "code",
   "execution_count": null,
   "metadata": {},
   "outputs": [],
   "source": [
    "import pickle\n",
    "# pickle.dump(tpot, open('predictions/gbr_tabular_randomized_searched.pickle', 'wb'))\n",
    "# model = pickle.load(open('predictions/gbr_tabular_randomized_searched.pickle', 'rb'))"
   ]
  },
  {
   "cell_type": "code",
   "execution_count": null,
   "metadata": {},
   "outputs": [],
   "source": [
    "test_score = model.score(X_test, y_test)\n",
    "print(test_score)"
   ]
  },
  {
   "cell_type": "code",
   "execution_count": null,
   "metadata": {},
   "outputs": [],
   "source": []
  },
  {
   "cell_type": "code",
   "execution_count": null,
   "metadata": {},
   "outputs": [],
   "source": []
  }
 ],
 "metadata": {
  "kernelspec": {
   "display_name": "Python 3",
   "language": "python",
   "name": "python3"
  },
  "language_info": {
   "codemirror_mode": {
    "name": "ipython",
    "version": 3
   },
   "file_extension": ".py",
   "mimetype": "text/x-python",
   "name": "python",
   "nbconvert_exporter": "python",
   "pygments_lexer": "ipython3",
   "version": "3.6.4"
  }
 },
 "nbformat": 4,
 "nbformat_minor": 2
}
